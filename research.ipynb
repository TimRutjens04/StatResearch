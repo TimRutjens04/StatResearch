{
 "cells": [
  {
   "cell_type": "markdown",
   "id": "fce3960ef9898ac2",
   "metadata": {},
   "source": [
    "# Effect of Tournament Types on Soccer Matches\n",
    "\n",
    "**Authors:** Sjors Klaassen, Tim Rutjens  \n",
    "**Date:** 04-04-2025  \n",
    "**Teacher:** Beks, M.  \n",
    "**Course:** Statistics  "
   ]
  },
  {
   "cell_type": "markdown",
   "id": "d4692730dd69871e",
   "metadata": {
    "jp-MarkdownHeadingCollapsed": true
   },
   "source": [
    "#### Version history\n",
    "- V0.1 20-03-2025: Created the notebook and setup the core of the document.\n",
    "- V0.2 27-03-2025: Pick our dataset, and formulate the research question.\n",
    "- V0.3 04-04-2025: Conduct our first research and create first code snippets with their results."
   ]
  },
  {
   "cell_type": "markdown",
   "id": "87cec60fcc13b14a",
   "metadata": {},
   "source": [
    "#### Table of contents\n",
    "1. [Introduction](#introduction)\n",
    "2. [Methods](#methods)\n",
    "3. [Results](#mesults)\n",
    "4. [Discussion](#discussion)\n",
    "5. [Sources](#sources)\n"
   ]
  },
  {
   "cell_type": "markdown",
   "id": "d83e688d5eeef57a",
   "metadata": {
    "jp-MarkdownHeadingCollapsed": true
   },
   "source": [
    "## Introduction\n",
    "\n",
    " **1. What is researched in this document?**  \n",
    "\n",
    "In this document, the reader will learn more about the effects of tournament types on international soccer matches, specifically in relation to the number of goals scored. The researchers analyze data from international matches since 30-11-1872.  \n",
    "\n",
    "Before using the data, an initial analysis is performed. In this phase, the researchers explore key aspects of the dataset, such as:  \n",
    "\n",
    "- Type of data (Categorical, numerical and ordinal data)\n",
    "- Mean\n",
    "- Mode\n",
    "- Distribution\n",
    "\n",
    "Following the initial analysis, the researchers conduct a chi-squared test to examine the statistical significance of the findings. Since the test requires categorized data, the dataset is carefully prepared to meet these requirements.  \n",
    "\n",
    "The results of the chi-square test will be discussed, and based on these findings, the researchers will draw a conclusion. By the end of this document, the reader will have a clearer understanding of the effects of tournament types on soccer matches.  \n",
    "\n",
    "\n",
    "**2. Research question**\n",
    "\n",
    "How does the tournament type effect the number of goals in international soccer matches?\n",
    "   \n",
    "**3. Hypothesis**\n",
    "\n",
    "The researchers think that in less important tournament types, such as friendlies, local events and regional events, the average number of goals will be higher than in more important tournament types (World cup, Continental cups). The researchers think this because the skill difference in smaller tournaments is way larger than when you play matches in tournaments in which the best of the best play. Therefor there will be less goals, and smaller differences in more important tournaments.\n",
    "   "
   ]
  },
  {
   "cell_type": "markdown",
   "id": "1d2c31ad-c055-40b4-bb82-a956acc9953d",
   "metadata": {},
   "source": [
    "## Methods\n",
    "**1. Gathering data**\n",
    "\n",
    "To succesfully conduct the research about the number of goals in international matches we need a good dataset first. By searching the internet we found a dataset which fits our research perfectly. We found the dataset on [Kaggle](https://www.kaggle.com/datasets/martj42/international-football-results-from-1872-to-2017). This data set contains all matches since from 1872 to 2025. The set includes **47,917** data points at the moment of writing this document. The sets also contains data for shootouts, which are matches resulting in penalties. The researchers do not need this data since the researchers only take goals made during the match itself in account. There is also a sheet contianing goals scorers. The researchers also do not take this data in to account because the person who scored the goal does not matter for the research. Lastly, there is a datasheet contianing the former names of teams and clubs. This data set is also not needed for the research.\n",
    "\n",
    "**2. Analyzing the data**\n",
    "\n",
    "The dataset results has the following collumns:\n",
    "\n",
    "- **date** - the date of the match\n",
    "- **home_team** - the name of the home team\n",
    "- **away_team** - the name of the away team\n",
    "- **home_score** - the number of goals made by the home team, including extra time, excluding penalty shootouts\n",
    "- **away_score** - the number of goals made by the away team, including extra time, excluding penalty shootouts\n",
    "- **tournament** - the name of the tournament\n",
    "- **city** - the name of the city/town the match is played in\n",
    "- **country** - the name of the country the match is played in\n",
    "- **neutral** - TRUE/FALSE column indicating wether the match was played at a neutral venue\n",
    "\n",
    "**3. Statistical test**\n",
    "\n",
    "**4. Plotting the data**"
   ]
  },
  {
   "cell_type": "markdown",
   "id": "78397c3f-941c-44bb-b05b-426a096aaad0",
   "metadata": {},
   "source": [
    "## Results\n"
   ]
  },
  {
   "cell_type": "markdown",
   "id": "45b0f844-d919-47fa-aa84-55957ebc8efe",
   "metadata": {},
   "source": [
    "## Discussion"
   ]
  },
  {
   "cell_type": "markdown",
   "id": "a4ecc6e6-dbb8-4499-aea2-97b17134a350",
   "metadata": {},
   "source": [
    "## Sources"
   ]
  },
  {
   "cell_type": "code",
   "execution_count": null,
   "id": "31a8bd5c-c293-4aa3-8e5a-a4526309a9b3",
   "metadata": {},
   "outputs": [],
   "source": []
  }
 ],
 "metadata": {
  "kernelspec": {
   "display_name": "Python [conda env:base] *",
   "language": "python",
   "name": "conda-base-py"
  },
  "language_info": {
   "codemirror_mode": {
    "name": "ipython",
    "version": 3
   },
   "file_extension": ".py",
   "mimetype": "text/x-python",
   "name": "python",
   "nbconvert_exporter": "python",
   "pygments_lexer": "ipython3",
   "version": "3.12.7"
  }
 },
 "nbformat": 4,
 "nbformat_minor": 5
}
